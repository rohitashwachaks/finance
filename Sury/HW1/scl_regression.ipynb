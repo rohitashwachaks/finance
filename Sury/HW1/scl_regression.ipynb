{
 "cells": [
  {
   "cell_type": "markdown",
   "metadata": {},
   "source": [
    "# Team Members\n",
    "\n",
    "- Harsh Mehta _(hdm564)_\n",
    "- Dipali Pandey _(dp33957)_\n",
    "- Rohitashwa Chakraborty _(rc47878)_"
   ]
  },
  {
   "cell_type": "code",
   "execution_count": 95,
   "metadata": {},
   "outputs": [],
   "source": [
    "import pandas as pd\n",
    "import numpy as np\n",
    "import matplotlib.pyplot as plt\n",
    "import statsmodels.api as sm\n",
    "from patsy import dmatrices\n",
    "import yfinance as yf\n",
    "from datetime import datetime\n",
    "\n",
    "%matplotlib inline\n",
    "plt.style.use(\"bmh\")"
   ]
  },
  {
   "cell_type": "markdown",
   "metadata": {},
   "source": [
    "# Inputs"
   ]
  },
  {
   "cell_type": "markdown",
   "metadata": {},
   "source": [
    "## Hard-coded Inputs"
   ]
  },
  {
   "cell_type": "code",
   "execution_count": 96,
   "metadata": {},
   "outputs": [],
   "source": [
    "stocks = \"AAPL\".split()\n",
    "market = \"^GSPC\"\n",
    "tbonds = \"^IRX\"\n",
    "start = pd.to_datetime(\"2000-01-01\")\n",
    "# end = pd.to_datetime(\"2020-01-01\")\n",
    "end = pd.to_datetime(datetime.now().date())\n",
    "period = \"1d\""
   ]
  },
  {
   "cell_type": "markdown",
   "metadata": {},
   "source": [
    "## User Inputs\n",
    "\n",
    "Please Uncomment to provide Input"
   ]
  },
  {
   "cell_type": "code",
   "execution_count": 97,
   "metadata": {},
   "outputs": [],
   "source": [
    "# stocks = str(input(\"Space separated Stock Ticker(s):\")).upper().split()\n",
    "# market = str(input(\"market Ticker: \")).upper()\n",
    "# tbonds = str(input(\"tbonds Ticker: \")).upper()\n",
    "\n",
    "# start = pd.to_datetime(input(\"Start Date: \"))\n",
    "# end = pd.to_datetime(input(\"End Date: \"))\n",
    "\n",
    "# period = str(input(\"Frequency:\"))"
   ]
  },
  {
   "cell_type": "markdown",
   "metadata": {},
   "source": [
    "## Selected Inputs"
   ]
  },
  {
   "cell_type": "code",
   "execution_count": 98,
   "metadata": {},
   "outputs": [
    {
     "name": "stdout",
     "output_type": "stream",
     "text": [
      "Selected stock tickers: ['AAPL']\n",
      "market Ticker:  ^GSPC\n",
      "tbonds Ticker:  ^IRX\n",
      "Start Date:  2000-01-01 00:00:00\n",
      "End Date:  2021-10-26 00:00:00\n",
      "Frequency: 1d\n"
     ]
    }
   ],
   "source": [
    "print(\"Selected stock tickers:\", stocks)\n",
    "print(\"market Ticker: \",market)\n",
    "print(\"tbonds Ticker: \",tbonds)\n",
    "print(\"Start Date: \",start)\n",
    "print(\"End Date: \",end)\n",
    "print(\"Frequency:\", period)"
   ]
  },
  {
   "cell_type": "markdown",
   "metadata": {},
   "source": [
    "# Yahoo"
   ]
  },
  {
   "cell_type": "code",
   "execution_count": 99,
   "metadata": {},
   "outputs": [
    {
     "name": "stdout",
     "output_type": "stream",
     "text": [
      "[*********************100%***********************]  3 of 3 completed\n"
     ]
    }
   ],
   "source": [
    "try:\n",
    "    tickers_list = stocks+[market]+ [tbonds]\n",
    "    data = yf.download(tickers= tickers_list, start=start, end=end, interval=period)[\"Adj Close\"].fillna(method=\"ffill\")\n",
    "    data[stocks+[market]] = data[stocks+[market]].pct_change()\n",
    "    data.dropna(inplace = True)\n",
    "except:\n",
    "    print(\"Wrong Inputs. Please try again\")"
   ]
  },
  {
   "cell_type": "code",
   "execution_count": 100,
   "metadata": {},
   "outputs": [
    {
     "data": {
      "text/html": [
       "<div>\n",
       "<style scoped>\n",
       "    .dataframe tbody tr th:only-of-type {\n",
       "        vertical-align: middle;\n",
       "    }\n",
       "\n",
       "    .dataframe tbody tr th {\n",
       "        vertical-align: top;\n",
       "    }\n",
       "\n",
       "    .dataframe thead th {\n",
       "        text-align: right;\n",
       "    }\n",
       "</style>\n",
       "<table border=\"1\" class=\"dataframe\">\n",
       "  <thead>\n",
       "    <tr style=\"text-align: right;\">\n",
       "      <th></th>\n",
       "      <th>AAPL</th>\n",
       "      <th>MRKT</th>\n",
       "    </tr>\n",
       "    <tr>\n",
       "      <th>Date</th>\n",
       "      <th></th>\n",
       "      <th></th>\n",
       "    </tr>\n",
       "  </thead>\n",
       "  <tbody>\n",
       "    <tr>\n",
       "      <th>2000-01-04</th>\n",
       "      <td>-0.137010</td>\n",
       "      <td>-0.091045</td>\n",
       "    </tr>\n",
       "    <tr>\n",
       "      <th>2000-01-05</th>\n",
       "      <td>-0.038067</td>\n",
       "      <td>-0.050778</td>\n",
       "    </tr>\n",
       "    <tr>\n",
       "      <th>2000-01-06</th>\n",
       "      <td>-0.138938</td>\n",
       "      <td>-0.051444</td>\n",
       "    </tr>\n",
       "    <tr>\n",
       "      <th>2000-01-07</th>\n",
       "      <td>-0.004831</td>\n",
       "      <td>-0.025110</td>\n",
       "    </tr>\n",
       "    <tr>\n",
       "      <th>2000-01-10</th>\n",
       "      <td>-0.069888</td>\n",
       "      <td>-0.041110</td>\n",
       "    </tr>\n",
       "  </tbody>\n",
       "</table>\n",
       "</div>"
      ],
      "text/plain": [
       "                AAPL      MRKT\n",
       "Date                          \n",
       "2000-01-04 -0.137010 -0.091045\n",
       "2000-01-05 -0.038067 -0.050778\n",
       "2000-01-06 -0.138938 -0.051444\n",
       "2000-01-07 -0.004831 -0.025110\n",
       "2000-01-10 -0.069888 -0.041110"
      ]
     },
     "execution_count": 100,
     "metadata": {},
     "output_type": "execute_result"
    }
   ],
   "source": [
    "data = data.apply(lambda row: (row[:-1]-(row[tbonds]/100)), axis = 1) # Converting bips to %age\n",
    "data.rename({market:\"MRKT\"}, axis=1, inplace=True)\n",
    "data.head()"
   ]
  },
  {
   "cell_type": "markdown",
   "metadata": {},
   "source": [
    "# Regression"
   ]
  },
  {
   "cell_type": "code",
   "execution_count": 101,
   "metadata": {},
   "outputs": [],
   "source": [
    "def plot_graph(ticker, X, y, params):\n",
    "    '''\n",
    "        Function to print the plots\n",
    "    '''\n",
    "    plt.figure(figsize=(10,7))\n",
    "    plt.scatter(X[\"MRKT\"], y, label = item)\n",
    "    plt.legend()\n",
    "    plt.xlabel(\"Systemic Risk\")\n",
    "    plt.ylabel(\"Risk Premium\")\n",
    "    plt.title(\"Security Characteristics Line Regression: \"+item)\n",
    "    plt.axhline(y=0, color='k', linewidth = 0.7)\n",
    "    plt.axvline(x=0, color='k', linewidth = 0.7)\n",
    "\n",
    "    f_x = np.dot(X,np.asarray(params))\n",
    "    plt.plot(X[\"MRKT\"],f_x, color = \"red\", linestyle = \"dashed\", linewidth = 0.7)"
   ]
  },
  {
   "cell_type": "code",
   "execution_count": 102,
   "metadata": {},
   "outputs": [
    {
     "name": "stdout",
     "output_type": "stream",
     "text": [
      "AAPL ~ MRKT\n",
      "                            OLS Regression Results                            \n",
      "==============================================================================\n",
      "Dep. Variable:                   AAPL   R-squared:                       0.537\n",
      "Model:                            OLS   Adj. R-squared:                  0.537\n",
      "Method:                 Least Squares   F-statistic:                     6372.\n",
      "Date:                Tue, 26 Oct 2021   Prob (F-statistic):               0.00\n",
      "Time:                        18:42:37   Log-Likelihood:                 13406.\n",
      "No. Observations:                5488   AIC:                        -2.681e+04\n",
      "Df Residuals:                    5486   BIC:                        -2.679e+04\n",
      "Df Model:                           1                                         \n",
      "Covariance Type:            nonrobust                                         \n",
      "==============================================================================\n",
      "                 coef    std err          t      P>|t|      [0.025      0.975]\n",
      "------------------------------------------------------------------------------\n",
      "Intercept      0.0017      0.000      4.976      0.000       0.001       0.002\n",
      "MRKT           1.0490      0.013     79.822      0.000       1.023       1.075\n",
      "==============================================================================\n",
      "Omnibus:                     3744.295   Durbin-Watson:                   2.008\n",
      "Prob(Omnibus):                  0.000   Jarque-Bera (JB):           948090.741\n",
      "Skew:                          -2.174   Prob(JB):                         0.00\n",
      "Kurtosis:                      67.244   Cond. No.                         46.3\n",
      "==============================================================================\n",
      "\n",
      "Notes:\n",
      "[1] Standard Errors assume that the covariance matrix of the errors is correctly specified.\n",
      "––––––––––––––––––––––––––––––––––––––––––––––––––––––––––––––––––––––––––––\n",
      "\n"
     ]
    },
    {
     "data": {
      "image/png": "[encoded data removed]",
      "text/plain": [
       "<Figure size 720x504 with 1 Axes>"
      ]
     },
     "metadata": {
      "needs_background": "light"
     },
     "output_type": "display_data"
    }
   ],
   "source": [
    "for item in stocks:\n",
    "    formula = item+' ~ MRKT'\n",
    "    print(formula)\n",
    "    y, X = dmatrices(formula, data=data, return_type= \"dataframe\")\n",
    "    model = sm.OLS(y, X)\n",
    "    result = model.fit()\n",
    "    print(result.summary(),end=\"\\n––––––––––––––––––––––––––––––––––––––––––––––––––––––––––––––––––––––––––––\\n\\n\")\n",
    "    \n",
    "    # print(\"T-test\")\n",
    "    # hypotheses = 'Intercept = 0, MRKT = 0'\n",
    "    # print(result.t_test(hypotheses),end=\"\\n––––––––––––––––––––––––––––––––––––––––––––––––––––––––––––––––––––––––––––\\n\\n\")\n",
    "    \n",
    "    plot_graph(item, X, y, result.params)"
   ]
  },
  {
   "cell_type": "markdown",
   "metadata": {},
   "source": [
    "Market $\\beta$ is statistiscally significantly different from 0, and is equal to 1.049\n",
    "\n",
    "$\\alpha$ is approximately equal to zero"
   ]
  },
  {
   "cell_type": "markdown",
   "metadata": {},
   "source": [
    "***\n",
    "***"
   ]
  }
 ],
 "metadata": {
  "interpreter": {
   "hash": "e977757c12efd7edc355d4bfc73cb288660b7eabd32e8af9dce074334f507a80"
  },
  "kernelspec": {
   "display_name": "Python 3.9.7 64-bit ('finance': conda)",
   "name": "python3"
  },
  "language_info": {
   "codemirror_mode": {
    "name": "ipython",
    "version": 3
   },
   "file_extension": ".py",
   "mimetype": "text/x-python",
   "name": "python",
   "nbconvert_exporter": "python",
   "pygments_lexer": "ipython3",
   "version": "3.9.7"
  },
  "orig_nbformat": 4
 },
 "nbformat": 4,
 "nbformat_minor": 2
}
