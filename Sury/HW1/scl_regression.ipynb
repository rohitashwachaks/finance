{
 "cells": [
  {
   "cell_type": "markdown",
   "metadata": {},
   "source": [
    "# Team Members\n",
    "\n",
    "- Harsh Mehta _(hdm564)_\n",
    "- Dipali Pandey _(dp33957)_\n",
    "- Rohitashwa Chakraborty _(rc47878)_"
   ]
  },
  {
   "cell_type": "code",
   "execution_count": 1,
   "metadata": {},
   "outputs": [],
   "source": [
    "import pandas as pd\n",
    "import numpy as np\n",
    "import matplotlib.pyplot as plt\n",
    "import statsmodels.api as sm\n",
    "from patsy import dmatrices\n",
    "import yfinance as yf\n",
    "from datetime import datetime\n",
    "\n",
    "%matplotlib inline\n",
    "plt.style.use(\"bmh\")"
   ]
  },
  {
   "cell_type": "markdown",
   "metadata": {},
   "source": [
    "# Inputs"
   ]
  },
  {
   "cell_type": "markdown",
   "metadata": {},
   "source": [
    "## Hard-coded Inputs"
   ]
  },
  {
   "cell_type": "code",
   "execution_count": 2,
   "metadata": {},
   "outputs": [],
   "source": [
    "stocks = \"TSLA\".split()\n",
    "market = \"^GSPC\"\n",
    "tbonds = \"^IRX\"\n",
    "start = pd.to_datetime(\"2000-01-01\")\n",
    "# end = pd.to_datetime(\"2020-01-01\")\n",
    "end = pd.to_datetime(datetime.now().date())\n",
    "period = \"1d\""
   ]
  },
  {
   "cell_type": "markdown",
   "metadata": {},
   "source": [
    "## User Inputs\n",
    "\n",
    "Please Uncomment to provide Input"
   ]
  },
  {
   "cell_type": "code",
   "execution_count": 3,
   "metadata": {},
   "outputs": [],
   "source": [
    "# stocks = str(input(\"Space separated Stock Ticker(s):\")).upper().split()\n",
    "# market = str(input(\"market Ticker: \")).upper()\n",
    "# tbonds = str(input(\"tbonds Ticker: \")).upper()\n",
    "\n",
    "# start = pd.to_datetime(input(\"Start Date: \"))\n",
    "# end = pd.to_datetime(input(\"End Date: \"))\n",
    "\n",
    "# period = str(input(\"Frequency:\"))"
   ]
  },
  {
   "cell_type": "markdown",
   "metadata": {},
   "source": [
    "## Selected Inputs"
   ]
  },
  {
   "cell_type": "code",
   "execution_count": 4,
   "metadata": {},
   "outputs": [
    {
     "name": "stdout",
     "output_type": "stream",
     "text": [
      "Selected stock tickers: ['TSLA']\n",
      "market Ticker:  ^GSPC\n",
      "tbonds Ticker:  ^IRX\n",
      "Start Date:  2000-01-01 00:00:00\n",
      "End Date:  2021-11-17 00:00:00\n",
      "Frequency: 1d\n"
     ]
    }
   ],
   "source": [
    "print(\"Selected stock tickers:\", stocks)\n",
    "print(\"market Ticker: \",market)\n",
    "print(\"tbonds Ticker: \",tbonds)\n",
    "print(\"Start Date: \",start)\n",
    "print(\"End Date: \",end)\n",
    "print(\"Frequency:\", period)"
   ]
  },
  {
   "cell_type": "markdown",
   "metadata": {},
   "source": [
    "# Yahoo"
   ]
  },
  {
   "cell_type": "code",
   "execution_count": 5,
   "metadata": {},
   "outputs": [
    {
     "name": "stdout",
     "output_type": "stream",
     "text": [
      "[*********************100%***********************]  3 of 3 completed\n"
     ]
    }
   ],
   "source": [
    "try:\n",
    "    tickers_list = stocks+[market]+ [tbonds]\n",
    "    data = yf.download(tickers= tickers_list, start=start, end=end, interval=period)[\"Adj Close\"].fillna(method=\"ffill\")\n",
    "    data[stocks+[market]] = data[stocks+[market]].pct_change()\n",
    "    data.dropna(inplace = True)\n",
    "except:\n",
    "    print(\"Wrong Inputs. Please try again\")"
   ]
  },
  {
   "cell_type": "code",
   "execution_count": 6,
   "metadata": {},
   "outputs": [
    {
     "data": {
      "text/html": [
       "<div>\n",
       "<style scoped>\n",
       "    .dataframe tbody tr th:only-of-type {\n",
       "        vertical-align: middle;\n",
       "    }\n",
       "\n",
       "    .dataframe tbody tr th {\n",
       "        vertical-align: top;\n",
       "    }\n",
       "\n",
       "    .dataframe thead th {\n",
       "        text-align: right;\n",
       "    }\n",
       "</style>\n",
       "<table border=\"1\" class=\"dataframe\">\n",
       "  <thead>\n",
       "    <tr style=\"text-align: right;\">\n",
       "      <th></th>\n",
       "      <th>TSLA</th>\n",
       "      <th>MRKT</th>\n",
       "    </tr>\n",
       "    <tr>\n",
       "      <th>Date</th>\n",
       "      <th></th>\n",
       "      <th></th>\n",
       "    </tr>\n",
       "  </thead>\n",
       "  <tbody>\n",
       "    <tr>\n",
       "      <th>2010-06-30</th>\n",
       "      <td>-0.004212</td>\n",
       "      <td>-0.011813</td>\n",
       "    </tr>\n",
       "    <tr>\n",
       "      <th>2010-07-01</th>\n",
       "      <td>-0.080172</td>\n",
       "      <td>-0.004940</td>\n",
       "    </tr>\n",
       "    <tr>\n",
       "      <th>2010-07-02</th>\n",
       "      <td>-0.127283</td>\n",
       "      <td>-0.006262</td>\n",
       "    </tr>\n",
       "    <tr>\n",
       "      <th>2010-07-06</th>\n",
       "      <td>-0.162538</td>\n",
       "      <td>0.003759</td>\n",
       "    </tr>\n",
       "    <tr>\n",
       "      <th>2010-07-07</th>\n",
       "      <td>-0.020843</td>\n",
       "      <td>0.029731</td>\n",
       "    </tr>\n",
       "  </tbody>\n",
       "</table>\n",
       "</div>"
      ],
      "text/plain": [
       "                TSLA      MRKT\n",
       "Date                          \n",
       "2010-06-30 -0.004212 -0.011813\n",
       "2010-07-01 -0.080172 -0.004940\n",
       "2010-07-02 -0.127283 -0.006262\n",
       "2010-07-06 -0.162538  0.003759\n",
       "2010-07-07 -0.020843  0.029731"
      ]
     },
     "execution_count": 6,
     "metadata": {},
     "output_type": "execute_result"
    }
   ],
   "source": [
    "data = data.apply(lambda row: (row[:-1]-(row[tbonds]/100)), axis = 1) # Converting bips to %age\n",
    "data.rename({market:\"MRKT\"}, axis=1, inplace=True)\n",
    "data.head()"
   ]
  },
  {
   "cell_type": "markdown",
   "metadata": {},
   "source": [
    "# Regression"
   ]
  },
  {
   "cell_type": "code",
   "execution_count": 7,
   "metadata": {},
   "outputs": [],
   "source": [
    "def plot_graph(ticker, X, y, params):\n",
    "    '''\n",
    "        Function to print the plots\n",
    "    '''\n",
    "    plt.figure(figsize=(10,7))\n",
    "    plt.scatter(X[\"MRKT\"], y, label = item)\n",
    "    plt.legend()\n",
    "    plt.xlabel(\"Systemic Risk\")\n",
    "    plt.ylabel(\"Risk Premium\")\n",
    "    plt.title(\"Security Characteristics Line Regression: \"+item)\n",
    "    plt.axhline(y=0, color='k', linewidth = 0.7)\n",
    "    plt.axvline(x=0, color='k', linewidth = 0.7)\n",
    "\n",
    "    f_x = np.dot(X,np.asarray(params))\n",
    "    plt.plot(X[\"MRKT\"],f_x, color = \"red\", linestyle = \"dashed\", linewidth = 0.7)"
   ]
  },
  {
   "cell_type": "code",
   "execution_count": 8,
   "metadata": {},
   "outputs": [
    {
     "name": "stdout",
     "output_type": "stream",
     "text": [
      "TSLA ~ MRKT\n",
      "                            OLS Regression Results                            \n",
      "==============================================================================\n",
      "Dep. Variable:                   TSLA   R-squared:                       0.194\n",
      "Model:                            OLS   Adj. R-squared:                  0.193\n",
      "Method:                 Least Squares   F-statistic:                     688.0\n",
      "Date:                Wed, 17 Nov 2021   Prob (F-statistic):          4.25e-136\n",
      "Time:                        00:18:07   Log-Likelihood:                 5747.0\n",
      "No. Observations:                2867   AIC:                        -1.149e+04\n",
      "Df Residuals:                    2865   BIC:                        -1.148e+04\n",
      "Df Model:                           1                                         \n",
      "Covariance Type:            nonrobust                                         \n",
      "==============================================================================\n",
      "                 coef    std err          t      P>|t|      [0.025      0.975]\n",
      "------------------------------------------------------------------------------\n",
      "Intercept      0.0029      0.001      4.481      0.000       0.002       0.004\n",
      "MRKT           1.2120      0.046     26.230      0.000       1.121       1.303\n",
      "==============================================================================\n",
      "Omnibus:                      548.893   Durbin-Watson:                   2.000\n",
      "Prob(Omnibus):                  0.000   Jarque-Bera (JB):             5987.437\n",
      "Skew:                           0.579   Prob(JB):                         0.00\n",
      "Kurtosis:                       9.984   Cond. No.                         75.9\n",
      "==============================================================================\n",
      "\n",
      "Notes:\n",
      "[1] Standard Errors assume that the covariance matrix of the errors is correctly specified.\n",
      "––––––––––––––––––––––––––––––––––––––––––––––––––––––––––––––––––––––––––––\n",
      "\n"
     ]
    },
    {
     "data": {
      "image/png": "[encoded data removed]",
      "text/plain": [
       "<Figure size 720x504 with 1 Axes>"
      ]
     },
     "metadata": {
      "needs_background": "light"
     },
     "output_type": "display_data"
    }
   ],
   "source": [
    "for item in stocks:\n",
    "    formula = item+' ~ MRKT'\n",
    "    print(formula)\n",
    "    y, X = dmatrices(formula, data=data, return_type= \"dataframe\")\n",
    "    model = sm.OLS(y, X)\n",
    "    result = model.fit()\n",
    "    print(result.summary(),end=\"\\n––––––––––––––––––––––––––––––––––––––––––––––––––––––––––––––––––––––––––––\\n\\n\")\n",
    "    \n",
    "    # print(\"T-test\")\n",
    "    # hypotheses = 'Intercept = 0, MRKT = 0'\n",
    "    # print(result.t_test(hypotheses),end=\"\\n––––––––––––––––––––––––––––––––––––––––––––––––––––––––––––––––––––––––––––\\n\\n\")\n",
    "    \n",
    "    plot_graph(item, X, y, result.params)"
   ]
  },
  {
   "cell_type": "markdown",
   "metadata": {},
   "source": [
    "Market $\\beta$ is statistiscally significantly different from 0, and is equal to 1.049\n",
    "\n",
    "$\\alpha$ is approximately equal to zero"
   ]
  },
  {
   "cell_type": "markdown",
   "metadata": {},
   "source": [
    "***\n",
    "***"
   ]
  }
 ],
 "metadata": {
  "interpreter": {
   "hash": "e977757c12efd7edc355d4bfc73cb288660b7eabd32e8af9dce074334f507a80"
  },
  "kernelspec": {
   "display_name": "Python 3.9.7 64-bit ('finance': conda)",
   "name": "python3"
  },
  "language_info": {
   "codemirror_mode": {
    "name": "ipython",
    "version": 3
   },
   "file_extension": ".py",
   "mimetype": "text/x-python",
   "name": "python",
   "nbconvert_exporter": "python",
   "pygments_lexer": "ipython3",
   "version": "3.9.7"
  },
  "orig_nbformat": 4
 },
 "nbformat": 4,
 "nbformat_minor": 2
}
