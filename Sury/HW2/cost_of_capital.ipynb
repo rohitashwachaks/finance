{
 "cells": [
  {
   "cell_type": "markdown",
   "metadata": {},
   "source": [
    "# Team Members\n",
    "\n",
    "- Harsh Mehta _(hdm564)_\n",
    "- Dipali Pandey _(dp33957)_\n",
    "- Rohitashwa Chakraborty _(rc47878)_\n",
    "\n",
    "\n",
    "Things to work on:\n",
    "- daily data -> monthly data\n",
    "- $\\beta_D$ is 0\n",
    "- $r_f$ is 0\n",
    "- d/e ratio assumed const"
   ]
  },
  {
   "cell_type": "code",
   "execution_count": 26,
   "metadata": {},
   "outputs": [
    {
     "name": "stdout",
     "output_type": "stream",
     "text": [
      "Loading library list...\n",
      "Done\n"
     ]
    }
   ],
   "source": [
    "import pandas as pd\n",
    "import numpy as np\n",
    "import matplotlib.pyplot as plt\n",
    "from IPython.display import display, Markdown as md, Latex, Math\n",
    "\n",
    "import statsmodels.api as sm\n",
    "from patsy import dmatrices\n",
    "import yfinance as yf\n",
    "from datetime import datetime\n",
    "\n",
    "import wrds\n",
    "connection = wrds.Connection()\n",
    "\n",
    "%matplotlib inline\n",
    "plt.style.use(\"bmh\")"
   ]
  },
  {
   "cell_type": "markdown",
   "metadata": {},
   "source": [
    "# Inputs"
   ]
  },
  {
   "cell_type": "markdown",
   "metadata": {},
   "source": [
    "## Hard-coded Inputs"
   ]
  },
  {
   "cell_type": "code",
   "execution_count": 27,
   "metadata": {},
   "outputs": [],
   "source": [
    "stocks = \"MSFT\".split()\n",
    "start = pd.to_datetime(\"2015-01-01\").date()\n",
    "# end = pd.to_datetime(\"2020-01-01\")\n",
    "end = pd.to_datetime(datetime.now()).date()\n",
    "period = \"1mo\""
   ]
  },
  {
   "cell_type": "markdown",
   "metadata": {},
   "source": [
    "## User Inputs"
   ]
  },
  {
   "cell_type": "code",
   "execution_count": 28,
   "metadata": {},
   "outputs": [],
   "source": [
    "# stocks = str(input(\"Space separated Stock Ticker(s):\")).upper().split()\n",
    "# market = str(input(\"market Ticker: \")).upper()\n",
    "# tbonds = str(input(\"tbonds Ticker: \")).upper()\n",
    "\n",
    "# start = pd.to_datetime(input(\"Start Date: \"))\n",
    "# end = pd.to_datetime(input(\"End Date: \"))\n",
    "\n",
    "# period = str(input(\"Frequency:\"))"
   ]
  },
  {
   "cell_type": "markdown",
   "metadata": {},
   "source": [
    "## Selected Inputs"
   ]
  },
  {
   "cell_type": "code",
   "execution_count": 29,
   "metadata": {},
   "outputs": [
    {
     "name": "stdout",
     "output_type": "stream",
     "text": [
      "Selected stock tickers: ['MSFT']\n",
      "Start Date:  2015-01-01\n",
      "End Date:  2021-11-08\n",
      "Frequency: 1mo\n"
     ]
    }
   ],
   "source": [
    "print(\"Selected stock tickers:\", stocks)\n",
    "# print(\"market Ticker: \",market)\n",
    "# print(\"tbonds Ticker: \",tbonds)\n",
    "print(\"Start Date: \",start)\n",
    "print(\"End Date: \",end)\n",
    "print(\"Frequency:\", period)"
   ]
  },
  {
   "cell_type": "markdown",
   "metadata": {},
   "source": [
    "# Security Class"
   ]
  },
  {
   "cell_type": "code",
   "execution_count": 33,
   "metadata": {},
   "outputs": [],
   "source": [
    "class Security():\n",
    "\n",
    "    @classmethod\n",
    "    def __init__(self, *args, **kwargs)-> None:\n",
    "        if \"market\" in kwargs.keys():\n",
    "            self._market = kwargs[\"market\"]\n",
    "            try:\n",
    "                self._market_permno = self.__get_permno(self, kwargs[\"market\"])\n",
    "            except:\n",
    "                raise Exception(\"Invalid Initialisation. Need A Market Proxy\")\n",
    "        else:\n",
    "            self._market = \"SPY\"\n",
    "            self._market_permno = 84398\n",
    "        \n",
    "        if \"rf\" in kwargs.keys():\n",
    "            self._rf = kwargs[\"rf\"]\n",
    "            try:\n",
    "                self._rf_permno = self.__get_permno(self, kwargs[\"rf\"])\n",
    "            except:\n",
    "                raise Exception(\"Invalid Initialisation. Need A Risk Free Proxy\")\n",
    "        else:\n",
    "            self._rf = \"IRX\"\n",
    "            self._rf_permno = 1\n",
    "        \n",
    "        if \"start_date\" in kwargs.keys():\n",
    "            self._start_date = kwargs['start_date']\n",
    "        else:\n",
    "            self._start_date = (pd.to_datetime(datetime.now()) - pd.DateOffset(years = 5)).date()\n",
    "        \n",
    "        if \"end_date\" in kwargs.keys():\n",
    "            self._end_date = kwargs['end_date']\n",
    "        else:\n",
    "            self._end_date = pd.to_datetime(datetime.now()).date()\n",
    "        \n",
    "        if isinstance(args[0], str):\n",
    "            self.ticker = args[0]\n",
    "            try:\n",
    "                display(md(\"......Fetching Company Info......\"))\n",
    "                self.__get_company_info(self)\n",
    "            except:\n",
    "                display(md(\"–––––––––Failed to Fetch Ticker Information–––––––––\"))\n",
    "                print(sys.exc_info()[1])\n",
    "            \n",
    "            try:\n",
    "                display(md(\"......Fetching Comps Info......\"))\n",
    "                self.__get_comps_info(self)\n",
    "            except:\n",
    "                display(md(\"–––––––––Failed to Fetch Comps Information–––––––––\"))\n",
    "                print(sys.exc_info()[1])\n",
    "        # elif isinstance(args[0], pd.Series):\n",
    "        #     print(args[0].columns)\n",
    "        #     self.permno, self.gvkey, self.ticker, self.name, self.public_date, self.mrktcap, self.efftax,\\\n",
    "        #         self.de_ratio, self.sic, self.spcsrc, self.ggroup, self.gind, self.gsector, self.gsubind = args[0]\n",
    "        \n",
    "        try:\n",
    "            display(md(\"......Calculating Beta......\"))\n",
    "            self.beta = self.__getbeta(self, self.ticker, self.permno)\n",
    "        except:\n",
    "            display(md(\"–––––––––Failed to Calculate Beta–––––––––\"))\n",
    "            print(sys.exc_info()[1])\n",
    "        return\n",
    "    \n",
    "    @staticmethod \n",
    "    def __get_permno(self, ticker)->float:\n",
    "        sql_string = \"\"\"\n",
    "                    SELECT permno, conm\n",
    "                    FROM comp.company c\n",
    "                    INNER JOIN (\n",
    "                            SELECT DISTINCT permno, gvkey\n",
    "                            FROM wrdsapps_finratio.firm_ratio\n",
    "                            WHERE ticker = '{tic}'\n",
    "                        ) x ON x.gvkey = c.gvkey\n",
    "                    \"\"\".format(tic = ticker)\n",
    "        data =  connection.raw_sql(sql_string)\n",
    "        return data['permno'][0]\n",
    "\n",
    "    @staticmethod\n",
    "    def __get_company_info(self)->None:\n",
    "        sql_string = \"\"\"\n",
    "                        SELECT DISTINCT \n",
    "                            company.conm, ratio.*, company.sic, company.spcsrc, \n",
    "                            company.ggroup, company.gind, company.gsector, company.gsubind\n",
    "                        FROM comp.company AS company\n",
    "                        INNER JOIN (\n",
    "                            SELECT permno, gvkey, mktcap, public_date, efftax, de_ratio, roe, int_debt as rod, roa \n",
    "                            FROM wrdsapps_finratio.firm_ratio\n",
    "                            WHERE ticker = '{tic}'\n",
    "                                AND public_date = (\n",
    "                                    SELECT max(public_date)\n",
    "                                    FROM wrdsapps_finratio.firm_ratio\n",
    "                                )\n",
    "                        ) ratio ON ratio.gvkey = company.gvkey\n",
    "                        FETCH FIRST 10 ROWS ONLY\"\"\".format(tic = self.ticker)\n",
    "        identifier = connection.raw_sql(sql_string)\n",
    "        \n",
    "        self.name, self.permno, self.gvkey, self.mrktcap, self.public_date,\\\n",
    "            self.efftax, self.de_ratio, self.roe, self.rod, self.roa,\\\n",
    "            self.sic, self.spcsrc, self.ggroup, self.gind, self.gsector, self.gsubind = identifier.values[0]\n",
    "\n",
    "        self.efftax = float(self.efftax)\n",
    "        self.public_date = pd.to_datetime(self.public_date)\n",
    "        self.mrktcap = float(self.mrktcap)\n",
    "        self.de_ratio = float(self.de_ratio)\n",
    "        self.efftax\n",
    "        self.roe\n",
    "        self.rod\n",
    "        self.roa\n",
    "\n",
    "        self.sic = int(self.sic)\n",
    "        self.gsector = int(self.gsector)\n",
    "        self.ggroup = int(self.ggroup)\n",
    "        self.gind = int(self.gind)\n",
    "        self.gsubind = int(self.gsubind)\n",
    "        return identifier\n",
    "\n",
    "    @staticmethod\n",
    "    def __get_comps_info(self)->None:\n",
    "        sql_string = \"\"\"\n",
    "                        SELECT \n",
    "                            date.de_difference, date.permno, date.gvkey, date.ticker, company.conm, date.public_date, \n",
    "                            date.mktcap, date.efftax, date.de_ratio, date.roe, date.rod, date.roa,\n",
    "                            company.sic, company.spcsrc, company.gsector, company.ggroup, company.gind, company.gsubind\n",
    "                        FROM (\n",
    "                            SELECT DISTINCT conm, gvkey,\n",
    "                            sic, spcsrc, ggroup, gind, gsector, gsubind,\n",
    "                            ABS(CAST(gsector AS INT) - {gsector}) gsector_diff,\n",
    "                            ABS(CAST(ggroup AS INT) - {ggroup}) ggroup_diff\n",
    "                            FROM comp.company\n",
    "                            WHERE sic = {sics}\n",
    "                                AND ggroup  = {ggroup}\n",
    "                                AND gvkey <> {gvkey}\n",
    "                                AND spcsrc IS NOT NULL\n",
    "                        ) company\n",
    "                        INNER JOIN ( \n",
    "                            SELECT \n",
    "                                r.permno, r.ticker, r.gvkey, r.public_date, r.mktcap,\n",
    "                                ABS(CAST(r.mktcap AS INT) - {mktcap}) as market_cap_difference,\n",
    "                                ABS(CAST(r.de_ratio AS INT) - {de_ratio}) as de_difference,\n",
    "                                r.efftax, r.de_ratio, r.roa, r.roe, r.int_debt as rod\n",
    "                            FROM wrdsapps_finratio.firm_ratio r\n",
    "                            INNER JOIN (\n",
    "                                SELECT gvkey, max(public_date) as public_date\n",
    "                                FROM wrdsapps_finratio.firm_ratio\n",
    "                                GROUP BY gvkey\n",
    "                            ) x ON x.gvkey = r.gvkey AND x.public_date = r.public_date\n",
    "                            ORDER BY market_cap_difference ASC\n",
    "                        ) date ON date.gvkey = company.gvkey\n",
    "                        WHERE company.gvkey <> {gvkey}\n",
    "                        ORDER BY date.market_cap_difference ASC, date.de_difference ASC, spcsrc ASC,\n",
    "                            gsector DESC, ggroup DESC, gsector_diff DESC, ggroup_diff DESC, date.public_date DESC\n",
    "                        FETCH FIRST 7 ROWS ONLY\"\"\".format(sics = \"'\"+str(self.sic)+\"'\",\n",
    "                                                            gsector = \"'\"+str(self.gsector)+\"'\",\n",
    "                                                            ggroup =  \"'\"+str(self.ggroup)+\"'\",\n",
    "                                                            gind =  \"'\"+str(self.gind)+\"'\",\n",
    "                                                            gsubind =  self.gsubind,\n",
    "                                                            gvkey = \"'\"+str(self.gvkey)+\"'\",\n",
    "                                                            mktcap = self.mrktcap,\n",
    "                                                            de_ratio = self.de_ratio\n",
    "                                                        )\n",
    "        self.comps = connection.raw_sql(sql_string)\n",
    "        return\n",
    "\n",
    "    @staticmethod\n",
    "    def __get_data(self, ticker, permno)->pd.DataFrame:\n",
    "        sql_string = \"\"\"\n",
    "                        SELECT \n",
    "                            date, ret AS {tic}\n",
    "                        FROM crsp.dsf \n",
    "                        WHERE permno = {permno}\n",
    "                            AND date >= '{start_date}'\n",
    "                            AND date <= '{end_date}'\"\"\".format(\n",
    "                                                            tic = ticker.upper(),\n",
    "                                                            permno = permno,\n",
    "                                                            start_date = self._start_date,\n",
    "                                                            end_date = self._end_date\n",
    "                                                        )\n",
    "        ret_data = connection.raw_sql(sql_string).set_index('date').sort_index(ascending = True)\n",
    "        return ret_data\n",
    "\n",
    "    @staticmethod\n",
    "    def __getbeta(self, ticker, permno, show_plot = False)->float:\n",
    "        daily_ret = pd.DataFrame(columns=[ticker, self._market, self._rf])\n",
    "        daily_ret[ticker] = self.__get_data(self, ticker, permno)\n",
    "        daily_ret[self._market] = self.__get_data(self, self._market,self._market_permno)\n",
    "        daily_ret[self._rf] = self.__get_data(self, self._rf,self._rf_permno)\n",
    "        daily_ret.fillna(0.0, inplace = True)\n",
    "        \n",
    "        ## Calculate risk premimum\n",
    "        daily_ret = daily_ret.apply(lambda row: (row[:-1]-(row[self._rf])), axis = 1)\n",
    "        # data = data.apply(lambda row: (row[:-1]-(row[tbonds]/100)), axis = 1) # Converting bips to %age\n",
    "        self.debug = daily_ret\n",
    "        ## Regress OLS, implement CAPM\n",
    "        formula = ticker + ' ~ '+ self._market\n",
    "        md(\"\\t\"+formula)\n",
    "        y, X = dmatrices(formula, data=daily_ret, return_type= \"dataframe\")\n",
    "        model = sm.OLS(y, X)\n",
    "        result = model.fit()\n",
    "        # print(result.summary(),end=\"\\n––––––––––––––––––––––––––––––––––––––––––––––––––––––––––––––––––––––––––––\\n\\n\")\n",
    "        \n",
    "        if show_plot:\n",
    "            self.__plot_graph(self, ticker, X, y, result.params)\n",
    "        return result.params[self._market]\n",
    "\n",
    "    @staticmethod\n",
    "    def __plot_graph(self, ticker, X, y, params)->None:\n",
    "        '''\n",
    "            Function to print the plots\n",
    "        '''\n",
    "        try:\n",
    "            plt.figure(figsize=(10,7))\n",
    "            plt.scatter(X[self._market], y, label = ticker)\n",
    "            plt.legend()\n",
    "            plt.xlabel(\"Systemic Risk\")\n",
    "            plt.ylabel(\"Risk Premium\")\n",
    "            plt.title(\"Security Characteristics Line Regression: \"+ticker+\" (β: \"+str(round(params[self._market], 2))+\")\")\n",
    "            plt.axhline(y=0, color='k', linewidth = 0.7)\n",
    "            plt.axvline(x=0, color='k', linewidth = 0.7)\n",
    "\n",
    "            f_x = np.dot(X,np.asarray(params))\n",
    "            plt.plot(X[self._market],f_x, color = \"red\", linestyle = \"dashed\", linewidth = 0.7)\n",
    "        except:\n",
    "            print(sys.exc_info())\n",
    "            raise Exception\n",
    "        return\n",
    "\n",
    "    @staticmethod\n",
    "    def __unlever_beta(de: float, tax: float, beta_eq: float, beta_dbt:float = 0.3, method: str = \"const de\")-> float:\n",
    "        ## ASK USER FOR TYPE OF UNLEVER TO USE\n",
    "        if method == \"const de\":\n",
    "            beta_unlevered =(beta_eq/(1+de)) + ((beta_dbt*de)/(1+de))\n",
    "        return beta_unlevered\n",
    "    \n",
    "    @staticmethod\n",
    "    def __relever_beta(de: float, tax: float, beta_unlevered: float, beta_dbt:float = 0.3, method: str = \"const de\")-> float:\n",
    "        if method == \"const de\":\n",
    "            beta_relevered = beta_unlevered*(1+de) - beta_dbt*de\n",
    "        return beta_relevered\n",
    "\n",
    "    @classmethod\n",
    "    def get_comps_beta(self, verbose = False):\n",
    "\n",
    "        display(md(r'**Step 1:** Calculating $\\beta^{Comps}_{Levered}$'))\n",
    "        self.comps[\"beta_levered\"] = self.comps[[\"ticker\", \"permno\"]]\\\n",
    "                                        .apply(lambda row: (self.__getbeta(self,\n",
    "                                                                            row[\"ticker\"],\n",
    "                                                                            row[\"permno\"],\n",
    "                                                                            show_plot = verbose\n",
    "                                                                        )\n",
    "                                                            ), axis = 1)\n",
    "\n",
    "        \n",
    "        display(md(r'**Step 2:** Unlever $\\beta^{Comps}_{Levered}$; Calculating $\\beta^{Comps}_{Unlevered}$'))\n",
    "        \n",
    "        self.comps[\"beta_unlevered\"] = self.comps[[\"de_ratio\",\"beta_levered\",\"efftax\"]]\\\n",
    "                                            .apply(lambda row: (self.__unlever_beta(de = row[\"de_ratio\"],\n",
    "                                                                                beta_eq = row[\"beta_levered\"],\n",
    "                                                                                tax = row[\"efftax\"]\n",
    "                                                                            )\n",
    "                                                                ), axis = 1)\n",
    "        beta_unlevered = self.comps[\"beta_unlevered\"].mean()\n",
    "        \n",
    "        display(md(r'**Step 3:** $\\beta^{Comps}_{Unlevered} = \\beta^{Sector}_{Unlevered} = %f$'%(beta_unlevered)))\n",
    "        \n",
    "        beta_relevered_from_comps = self.__relever_beta(de = self.de_ratio,\n",
    "                                                beta_unlevered = beta_unlevered,\n",
    "                                                tax = self.efftax)\n",
    "        display(md(r'**Step 4:** Relever $\\beta^{Sector}_{Unlevered} = \\beta^{%s}_{Unlevered} \\rightarrow \\beta^{%s}_{Relevered} = %f | %f$'%(self.ticker, self.ticker, beta_relevered_from_comps, self.beta)))\n",
    "        return beta_relevered_from_comps\n",
    "\n",
    "    @classmethod\n",
    "    def get_roe(self, beta):\n",
    "        daily_ret = pd.DataFrame(columns=[self._market, self._rf])\n",
    "        daily_ret[self._market] = self.__get_data(self, self._market,self._market_permno)\n",
    "        daily_ret[self._rf] = self.__get_data(self, self._rf,self._rf_permno)\n",
    "        daily_ret.fillna(0.0, inplace = True)\n",
    "        market_risk_premium = daily_ret[self._market].mean()\n",
    "\n",
    "        rf = 0\n",
    "        cost_of_equity = rf + (beta * market_risk_premium)\n",
    "\n",
    "        display(md(r'Calculated roe: %f'%(cost_of_equity)))\n",
    "        return cost_of_equity\n",
    "\n",
    "    @classmethod\n",
    "    def echo(self)-> None:\n",
    "        print(\"\\nMarket Ticker:\", self._market)\n",
    "        print(\"Market Permno:\", self._market_permno)\n",
    "        \n",
    "        print(\"\\nRisk Ticker:\", self._rf)\n",
    "        print(\"Risk Free Rate Permno:\", self._rf_permno)\n",
    "\n",
    "        print(\"\\nCompany Name:\", self.name)\n",
    "        print(\"Ticker:\", self.ticker)\n",
    "        print(\"Company PermNo:\", self.permno)\n",
    "        print(\"Company GV-Key: \", self.gvkey)\n",
    "        print(\"Market Cap: \", self.mrktcap)\n",
    "        print(\"Public Date: \", self.public_date.strftime(\"%d-%m-%Y\"))\n",
    "        print(\"Credit Rating: \", self.spcsrc)\n",
    "\n",
    "        print(\"\\nSIC Code: \", self.sic)\n",
    "        print(\"Sector Code: \", self.gsector)\n",
    "        print(\"Group Code: \", self.ggroup)\n",
    "        print(\"Industry Code: \", self.gind)\n",
    "        print(\"Sector Sub Industry Code: \", self.gsubind)\n",
    "        \n",
    "        print(\"\\nD/E Ratio:\", self.de_ratio)\n",
    "        print(\"Effective Tax Rate: \", self.efftax)\n",
    "        print(\"Cost of Equity: \", self.roe)\n",
    "        print(\"Cost of Debt: \", self.rod)\n",
    "        print(\"Cost of Capital: \", self.roa)\n",
    "        print(\"Beta: \", self.beta)\n",
    "        print(\"Comps:\")\n",
    "        return self.comps"
   ]
  },
  {
   "cell_type": "markdown",
   "metadata": {},
   "source": [
    "# Initialising Securities"
   ]
  },
  {
   "cell_type": "code",
   "execution_count": 34,
   "metadata": {},
   "outputs": [
    {
     "data": {
      "text/markdown": [
       "......Fetching Company Info......"
      ],
      "text/plain": [
       "<IPython.core.display.Markdown object>"
      ]
     },
     "metadata": {},
     "output_type": "display_data"
    },
    {
     "data": {
      "text/markdown": [
       "......Fetching Comps Info......"
      ],
      "text/plain": [
       "<IPython.core.display.Markdown object>"
      ]
     },
     "metadata": {},
     "output_type": "display_data"
    },
    {
     "data": {
      "text/markdown": [
       "......Calculating Beta......"
      ],
      "text/plain": [
       "<IPython.core.display.Markdown object>"
      ]
     },
     "metadata": {},
     "output_type": "display_data"
    },
    {
     "name": "stdout",
     "output_type": "stream",
     "text": [
      "\n",
      "Market Ticker: SPY\n",
      "Market Permno: 84398\n",
      "\n",
      "Risk Ticker: IRX\n",
      "Risk Free Rate Permno: 1\n",
      "\n",
      "Company Name: MICROSOFT CORP\n",
      "Ticker: MSFT\n",
      "Company PermNo: 10107.0\n",
      "Company GV-Key:  012141\n",
      "Market Cap:  1681605.5064763185\n",
      "Public Date:  31-12-2020\n",
      "Credit Rating:  A-\n",
      "\n",
      "SIC Code:  7372\n",
      "Sector Code:  45\n",
      "Group Code:  4510\n",
      "Industry Code:  451030\n",
      "Sector Sub Industry Code:  45103020\n",
      "\n",
      "D/E Ratio: 1.5102722246765\n",
      "Effective Tax Rate:  0.165076551776152\n",
      "Cost of Equity:  0.4223556089102308\n",
      "Cost of Debt:  0.03306311635798657\n",
      "Cost of Capital:  0.2389846313785961\n",
      "Beta:  1.2221886102450663\n",
      "Comps:\n"
     ]
    },
    {
     "data": {
      "text/html": [
       "<div>\n",
       "<style scoped>\n",
       "    .dataframe tbody tr th:only-of-type {\n",
       "        vertical-align: middle;\n",
       "    }\n",
       "\n",
       "    .dataframe tbody tr th {\n",
       "        vertical-align: top;\n",
       "    }\n",
       "\n",
       "    .dataframe thead th {\n",
       "        text-align: right;\n",
       "    }\n",
       "</style>\n",
       "<table border=\"1\" class=\"dataframe\">\n",
       "  <thead>\n",
       "    <tr style=\"text-align: right;\">\n",
       "      <th></th>\n",
       "      <th>de_difference</th>\n",
       "      <th>permno</th>\n",
       "      <th>gvkey</th>\n",
       "      <th>ticker</th>\n",
       "      <th>conm</th>\n",
       "      <th>public_date</th>\n",
       "      <th>mktcap</th>\n",
       "      <th>efftax</th>\n",
       "      <th>de_ratio</th>\n",
       "      <th>roe</th>\n",
       "      <th>rod</th>\n",
       "      <th>roa</th>\n",
       "      <th>sic</th>\n",
       "      <th>spcsrc</th>\n",
       "      <th>gsector</th>\n",
       "      <th>ggroup</th>\n",
       "      <th>gind</th>\n",
       "      <th>gsubind</th>\n",
       "    </tr>\n",
       "  </thead>\n",
       "  <tbody>\n",
       "    <tr>\n",
       "      <th>0</th>\n",
       "      <td>0.510272</td>\n",
       "      <td>90215.0</td>\n",
       "      <td>157855</td>\n",
       "      <td>CRM</td>\n",
       "      <td>SALESFORCE.COM INC</td>\n",
       "      <td>2020-12-31</td>\n",
       "      <td>203614.948883</td>\n",
       "      <td>0.821530</td>\n",
       "      <td>0.533050</td>\n",
       "      <td>0.101506</td>\n",
       "      <td>0.022609</td>\n",
       "      <td>0.052404</td>\n",
       "      <td>7372</td>\n",
       "      <td>B-</td>\n",
       "      <td>45</td>\n",
       "      <td>4510</td>\n",
       "      <td>451030</td>\n",
       "      <td>45103010</td>\n",
       "    </tr>\n",
       "    <tr>\n",
       "      <th>1</th>\n",
       "      <td>0.510272</td>\n",
       "      <td>78975.0</td>\n",
       "      <td>027928</td>\n",
       "      <td>INTU</td>\n",
       "      <td>INTUIT INC</td>\n",
       "      <td>2020-12-31</td>\n",
       "      <td>99804.069704</td>\n",
       "      <td>0.169245</td>\n",
       "      <td>0.865395</td>\n",
       "      <td>0.453409</td>\n",
       "      <td>0.014722</td>\n",
       "      <td>0.332626</td>\n",
       "      <td>7372</td>\n",
       "      <td>A-</td>\n",
       "      <td>45</td>\n",
       "      <td>4510</td>\n",
       "      <td>451030</td>\n",
       "      <td>45103010</td>\n",
       "    </tr>\n",
       "    <tr>\n",
       "      <th>2</th>\n",
       "      <td>0.510272</td>\n",
       "      <td>77357.0</td>\n",
       "      <td>024975</td>\n",
       "      <td>SNPS</td>\n",
       "      <td>SYNOPSYS INC</td>\n",
       "      <td>2020-12-31</td>\n",
       "      <td>39564.688830</td>\n",
       "      <td>-0.039626</td>\n",
       "      <td>0.635304</td>\n",
       "      <td>0.147726</td>\n",
       "      <td>0.015044</td>\n",
       "      <td>0.120581</td>\n",
       "      <td>7372</td>\n",
       "      <td>B</td>\n",
       "      <td>45</td>\n",
       "      <td>4510</td>\n",
       "      <td>451030</td>\n",
       "      <td>45103010</td>\n",
       "    </tr>\n",
       "    <tr>\n",
       "      <th>3</th>\n",
       "      <td>0.510272</td>\n",
       "      <td>11403.0</td>\n",
       "      <td>013421</td>\n",
       "      <td>CDNS</td>\n",
       "      <td>CADENCE DESIGN SYSTEMS INC</td>\n",
       "      <td>2020-12-31</td>\n",
       "      <td>38054.554287</td>\n",
       "      <td>-1.064812</td>\n",
       "      <td>0.712604</td>\n",
       "      <td>0.538360</td>\n",
       "      <td>0.054689</td>\n",
       "      <td>0.213861</td>\n",
       "      <td>7372</td>\n",
       "      <td>B</td>\n",
       "      <td>45</td>\n",
       "      <td>4510</td>\n",
       "      <td>451030</td>\n",
       "      <td>45103010</td>\n",
       "    </tr>\n",
       "    <tr>\n",
       "      <th>4</th>\n",
       "      <td>0.489728</td>\n",
       "      <td>87184.0</td>\n",
       "      <td>122841</td>\n",
       "      <td>RHT</td>\n",
       "      <td>RED HAT INC</td>\n",
       "      <td>2019-07-31</td>\n",
       "      <td>33427.959930</td>\n",
       "      <td>0.162274</td>\n",
       "      <td>2.462787</td>\n",
       "      <td>0.320664</td>\n",
       "      <td>0.049283</td>\n",
       "      <td>0.134344</td>\n",
       "      <td>7372</td>\n",
       "      <td>B+</td>\n",
       "      <td>45</td>\n",
       "      <td>4510</td>\n",
       "      <td>451030</td>\n",
       "      <td>45103020</td>\n",
       "    </tr>\n",
       "    <tr>\n",
       "      <th>5</th>\n",
       "      <td>1.510272</td>\n",
       "      <td>83621.0</td>\n",
       "      <td>063080</td>\n",
       "      <td>ANSS</td>\n",
       "      <td>ANSYS INC</td>\n",
       "      <td>2020-12-31</td>\n",
       "      <td>31244.598152</td>\n",
       "      <td>0.136415</td>\n",
       "      <td>0.370987</td>\n",
       "      <td>0.115059</td>\n",
       "      <td>0.021809</td>\n",
       "      <td>0.115101</td>\n",
       "      <td>7372</td>\n",
       "      <td>B+</td>\n",
       "      <td>45</td>\n",
       "      <td>4510</td>\n",
       "      <td>451030</td>\n",
       "      <td>45103010</td>\n",
       "    </tr>\n",
       "    <tr>\n",
       "      <th>6</th>\n",
       "      <td>0.489728</td>\n",
       "      <td>93312.0</td>\n",
       "      <td>062965</td>\n",
       "      <td>SSNC</td>\n",
       "      <td>SS&amp;C TECHNOLOGIES HLDGS INC</td>\n",
       "      <td>2020-12-31</td>\n",
       "      <td>18621.453750</td>\n",
       "      <td>0.175287</td>\n",
       "      <td>2.050768</td>\n",
       "      <td>0.092822</td>\n",
       "      <td>0.040425</td>\n",
       "      <td>0.108798</td>\n",
       "      <td>7372</td>\n",
       "      <td>B+</td>\n",
       "      <td>45</td>\n",
       "      <td>4510</td>\n",
       "      <td>451030</td>\n",
       "      <td>45103010</td>\n",
       "    </tr>\n",
       "  </tbody>\n",
       "</table>\n",
       "</div>"
      ],
      "text/plain": [
       "   de_difference   permno   gvkey ticker                         conm  \\\n",
       "0       0.510272  90215.0  157855    CRM           SALESFORCE.COM INC   \n",
       "1       0.510272  78975.0  027928   INTU                   INTUIT INC   \n",
       "2       0.510272  77357.0  024975   SNPS                 SYNOPSYS INC   \n",
       "3       0.510272  11403.0  013421   CDNS   CADENCE DESIGN SYSTEMS INC   \n",
       "4       0.489728  87184.0  122841    RHT                  RED HAT INC   \n",
       "5       1.510272  83621.0  063080   ANSS                    ANSYS INC   \n",
       "6       0.489728  93312.0  062965   SSNC  SS&C TECHNOLOGIES HLDGS INC   \n",
       "\n",
       "  public_date         mktcap    efftax  de_ratio       roe       rod  \\\n",
       "0  2020-12-31  203614.948883  0.821530  0.533050  0.101506  0.022609   \n",
       "1  2020-12-31   99804.069704  0.169245  0.865395  0.453409  0.014722   \n",
       "2  2020-12-31   39564.688830 -0.039626  0.635304  0.147726  0.015044   \n",
       "3  2020-12-31   38054.554287 -1.064812  0.712604  0.538360  0.054689   \n",
       "4  2019-07-31   33427.959930  0.162274  2.462787  0.320664  0.049283   \n",
       "5  2020-12-31   31244.598152  0.136415  0.370987  0.115059  0.021809   \n",
       "6  2020-12-31   18621.453750  0.175287  2.050768  0.092822  0.040425   \n",
       "\n",
       "        roa   sic spcsrc gsector ggroup    gind   gsubind  \n",
       "0  0.052404  7372     B-      45   4510  451030  45103010  \n",
       "1  0.332626  7372     A-      45   4510  451030  45103010  \n",
       "2  0.120581  7372      B      45   4510  451030  45103010  \n",
       "3  0.213861  7372      B      45   4510  451030  45103010  \n",
       "4  0.134344  7372     B+      45   4510  451030  45103020  \n",
       "5  0.115101  7372     B+      45   4510  451030  45103010  \n",
       "6  0.108798  7372     B+      45   4510  451030  45103010  "
      ]
     },
     "execution_count": 34,
     "metadata": {},
     "output_type": "execute_result"
    }
   ],
   "source": [
    "# security = [Security(stk, start_date = start, end_date = end) for stk in stocks][0]\n",
    "security = Security(stocks[0], start_date = start, end_date = end)\n",
    "security.echo()\n",
    "security.comps"
   ]
  },
  {
   "cell_type": "markdown",
   "metadata": {},
   "source": [
    "# Compute Cost of Equity"
   ]
  },
  {
   "cell_type": "code",
   "execution_count": 35,
   "metadata": {},
   "outputs": [
    {
     "data": {
      "text/markdown": [
       "**Step 1:** Calculating $\\beta^{Comps}_{Levered}$"
      ],
      "text/plain": [
       "<IPython.core.display.Markdown object>"
      ]
     },
     "metadata": {},
     "output_type": "display_data"
    },
    {
     "data": {
      "text/markdown": [
       "**Step 2:** Unlever $\\beta^{Comps}_{Levered}$; Calculating $\\beta^{Comps}_{Unlevered}$"
      ],
      "text/plain": [
       "<IPython.core.display.Markdown object>"
      ]
     },
     "metadata": {},
     "output_type": "display_data"
    },
    {
     "data": {
      "text/markdown": [
       "**Step 3:** $\\beta^{Comps}_{Unlevered} = \\beta^{Sector}_{Unlevered} = 0.738039$"
      ],
      "text/plain": [
       "<IPython.core.display.Markdown object>"
      ]
     },
     "metadata": {},
     "output_type": "display_data"
    },
    {
     "data": {
      "text/markdown": [
       "**Step 4:** Relever $\\beta^{Sector}_{Unlevered} = \\beta^{MSFT}_{Unlevered} \\rightarrow \\beta^{MSFT}_{Relevered} = 1.399596 | 1.222189$"
      ],
      "text/plain": [
       "<IPython.core.display.Markdown object>"
      ]
     },
     "metadata": {},
     "output_type": "display_data"
    }
   ],
   "source": [
    "beta_relevered_from_comps = security.get_comps_beta()"
   ]
  },
  {
   "cell_type": "code",
   "execution_count": 36,
   "metadata": {},
   "outputs": [
    {
     "data": {
      "text/markdown": [
       "Calculated roe: 0.000757"
      ],
      "text/plain": [
       "<IPython.core.display.Markdown object>"
      ]
     },
     "metadata": {},
     "output_type": "display_data"
    },
    {
     "data": {
      "text/markdown": [
       "Calculated roe: 0.000661"
      ],
      "text/plain": [
       "<IPython.core.display.Markdown object>"
      ]
     },
     "metadata": {},
     "output_type": "display_data"
    }
   ],
   "source": [
    "coe_comps = security.get_roe(beta_relevered_from_comps)\n",
    "coe_scl = security.get_roe(security.beta)"
   ]
  },
  {
   "cell_type": "code",
   "execution_count": 37,
   "metadata": {},
   "outputs": [
    {
     "name": "stdout",
     "output_type": "stream",
     "text": [
      "0.19080357281382773 0.1666180432159064\n"
     ]
    }
   ],
   "source": [
    "print(coe_comps*252, coe_scl*252)"
   ]
  },
  {
   "cell_type": "markdown",
   "metadata": {},
   "source": [
    "***\n",
    "***"
   ]
  },
  {
   "cell_type": "code",
   "execution_count": null,
   "metadata": {},
   "outputs": [],
   "source": [
    "def get_data(ticker, permno, period)->pd.DataFrame:\n",
    "    sql_string = \"\"\"\n",
    "                    SELECT \n",
    "                        date, ret AS {tic}\n",
    "                    FROM crsp.dsf \n",
    "                    WHERE permno = {permno}\n",
    "                        AND date >= '2015-01-01'\n",
    "                        AND date <= '2021-01-01'\"\"\".format(\n",
    "                                                        tic = ticker.upper(),\n",
    "                                                        permno = permno\n",
    "                                                    )\n",
    "    ret_data = connection.raw_sql(sql_string).set_index('date').sort_index(ascending = True)\n",
    "    ret_data.resample('3T')\n",
    "    return ret_data\n",
    "\n",
    "get_data('SPY')"
   ]
  }
 ],
 "metadata": {
  "interpreter": {
   "hash": "e977757c12efd7edc355d4bfc73cb288660b7eabd32e8af9dce074334f507a80"
  },
  "kernelspec": {
   "display_name": "Python 3.9.7 64-bit ('finance': conda)",
   "name": "python3"
  },
  "language_info": {
   "codemirror_mode": {
    "name": "ipython",
    "version": 3
   },
   "file_extension": ".py",
   "mimetype": "text/x-python",
   "name": "python",
   "nbconvert_exporter": "python",
   "pygments_lexer": "ipython3",
   "version": "3.9.7"
  },
  "orig_nbformat": 4
 },
 "nbformat": 4,
 "nbformat_minor": 2
}
